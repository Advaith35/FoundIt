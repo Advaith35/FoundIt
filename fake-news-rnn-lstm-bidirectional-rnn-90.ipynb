{
 "cells": [
  {
   "cell_type": "code",
   "execution_count": 1,
   "metadata": {
    "_cell_guid": "b1076dfc-b9ad-4769-8c92-a6c4dae69d19",
    "_uuid": "8f2839f25d086af736a60e9eeb907d3b93b6e0e5",
    "execution": {
     "iopub.execute_input": "2023-09-03T12:03:46.714494Z",
     "iopub.status.busy": "2023-09-03T12:03:46.714215Z",
     "iopub.status.idle": "2023-09-03T12:03:46.728800Z",
     "shell.execute_reply": "2023-09-03T12:03:46.727704Z",
     "shell.execute_reply.started": "2023-09-03T12:03:46.714468Z"
    },
    "trusted": true
   },
   "outputs": [
    {
     "name": "stdout",
     "output_type": "stream",
     "text": [
      "Dataset Path: \n",
      "C:/Users/cadva/OneDrive/Documents/fake-news/input\\submit.csv\n",
      "C:/Users/cadva/OneDrive/Documents/fake-news/input\\test.csv\n",
      "C:/Users/cadva/OneDrive/Documents/fake-news/input\\train.csv\n"
     ]
    }
   ],
   "source": [
    "import os\n",
    "print(\"Dataset Path: \")\n",
    "for dirname, _, filenames in os.walk('C:/Users/cadva/OneDrive/Documents/fake-news/input'):\n",
    "    for filename in filenames:\n",
    "        print(os.path.join(dirname, filename))"
   ]
  },
  {
   "cell_type": "markdown",
   "metadata": {},
   "source": [
    "<div class = \"alert alert-info\">\n",
    "    <h1>Importing Dependencies</h1>\n",
    "</div>"
   ]
  },
  {
   "cell_type": "code",
   "execution_count": 3,
   "metadata": {
    "execution": {
     "iopub.execute_input": "2023-09-03T12:03:49.502534Z",
     "iopub.status.busy": "2023-09-03T12:03:49.502184Z",
     "iopub.status.idle": "2023-09-03T12:04:01.755627Z",
     "shell.execute_reply": "2023-09-03T12:04:01.754600Z",
     "shell.execute_reply.started": "2023-09-03T12:03:49.502501Z"
    },
    "trusted": true
   },
   "outputs": [
    {
     "ename": "ModuleNotFoundError",
     "evalue": "No module named 'pandas'",
     "output_type": "error",
     "traceback": [
      "\u001b[31m---------------------------------------------------------------------------\u001b[39m",
      "\u001b[31mModuleNotFoundError\u001b[39m                       Traceback (most recent call last)",
      "\u001b[36mCell\u001b[39m\u001b[36m \u001b[39m\u001b[32mIn[3]\u001b[39m\u001b[32m, line 1\u001b[39m\n\u001b[32m----> \u001b[39m\u001b[32m1\u001b[39m \u001b[38;5;28;01mimport\u001b[39;00m\u001b[38;5;250m \u001b[39m\u001b[34;01mpandas\u001b[39;00m\u001b[38;5;250m \u001b[39m\u001b[38;5;28;01mas\u001b[39;00m\u001b[38;5;250m \u001b[39m\u001b[34;01mpd\u001b[39;00m\n\u001b[32m      2\u001b[39m \u001b[38;5;28;01mimport\u001b[39;00m\u001b[38;5;250m \u001b[39m\u001b[34;01mnumpy\u001b[39;00m\u001b[38;5;250m \u001b[39m\u001b[38;5;28;01mas\u001b[39;00m\u001b[38;5;250m \u001b[39m\u001b[34;01mnp\u001b[39;00m\n\u001b[32m      3\u001b[39m \u001b[38;5;28;01mimport\u001b[39;00m\u001b[38;5;250m \u001b[39m\u001b[34;01mmatplotlib\u001b[39;00m\u001b[34;01m.\u001b[39;00m\u001b[34;01mpyplot\u001b[39;00m\u001b[38;5;250m \u001b[39m\u001b[38;5;28;01mas\u001b[39;00m\u001b[38;5;250m \u001b[39m\u001b[34;01mplt\u001b[39;00m\n",
      "\u001b[31mModuleNotFoundError\u001b[39m: No module named 'pandas'"
     ]
    }
   ],
   "source": [
    "import pandas as pd\n",
    "import numpy as np\n",
    "import matplotlib.pyplot as plt\n",
    "import seaborn as sns\n",
    "import nltk\n",
    "import re\n",
    "from nltk.corpus import stopwords\n",
    "nltk.download('stopwords')\n",
    "from nltk.stem.porter import PorterStemmer\n",
    "import tensorflow as tf\n",
    "from tensorflow.keras.layers import Embedding\n",
    "from tensorflow.keras.preprocessing.sequence import pad_sequences\n",
    "from tensorflow.keras.models import Sequential\n",
    "from tensorflow.keras.preprocessing.text import one_hot\n",
    "from tensorflow.keras.layers import Dropout\n",
    "from tensorflow.keras.layers import LSTM, SimpleRNN, Bidirectional\n",
    "from tensorflow.keras.layers import Dense\n",
    "from sklearn.model_selection import train_test_split\n",
    "from sklearn.metrics import confusion_matrix\n",
    "from sklearn.metrics import accuracy_score\n",
    "from sklearn.metrics import classification_report\n",
    "# tf.__version__\n",
    "\n",
    "\n",
    "import warnings \n",
    "warnings.filterwarnings(\"ignore\")"
   ]
  },
  {
   "cell_type": "markdown",
   "metadata": {},
   "source": [
    "<div class = \"alert alert-warning\">\n",
    "    <h2>Dataset</h2>\n",
    "</div>"
   ]
  },
  {
   "cell_type": "code",
   "execution_count": 3,
   "metadata": {
    "execution": {
     "iopub.execute_input": "2023-09-03T12:04:05.542663Z",
     "iopub.status.busy": "2023-09-03T12:04:05.542040Z",
     "iopub.status.idle": "2023-09-03T12:04:08.608801Z",
     "shell.execute_reply": "2023-09-03T12:04:08.607821Z",
     "shell.execute_reply.started": "2023-09-03T12:04:05.542632Z"
    },
    "trusted": true
   },
   "outputs": [],
   "source": [
    "train = pd.read_csv(\"/kaggle/input/fake-news/train.csv\")\n",
    "test = pd.read_csv(\"/kaggle/input/fake-news/test.csv\")"
   ]
  },
  {
   "cell_type": "code",
   "execution_count": 4,
   "metadata": {
    "execution": {
     "iopub.execute_input": "2023-09-03T12:04:08.610988Z",
     "iopub.status.busy": "2023-09-03T12:04:08.610625Z",
     "iopub.status.idle": "2023-09-03T12:04:08.633947Z",
     "shell.execute_reply": "2023-09-03T12:04:08.633093Z",
     "shell.execute_reply.started": "2023-09-03T12:04:08.610956Z"
    },
    "trusted": true
   },
   "outputs": [
    {
     "data": {
      "text/html": [
       "<div>\n",
       "<style scoped>\n",
       "    .dataframe tbody tr th:only-of-type {\n",
       "        vertical-align: middle;\n",
       "    }\n",
       "\n",
       "    .dataframe tbody tr th {\n",
       "        vertical-align: top;\n",
       "    }\n",
       "\n",
       "    .dataframe thead th {\n",
       "        text-align: right;\n",
       "    }\n",
       "</style>\n",
       "<table border=\"1\" class=\"dataframe\">\n",
       "  <thead>\n",
       "    <tr style=\"text-align: right;\">\n",
       "      <th></th>\n",
       "      <th>id</th>\n",
       "      <th>title</th>\n",
       "      <th>author</th>\n",
       "      <th>text</th>\n",
       "      <th>label</th>\n",
       "    </tr>\n",
       "  </thead>\n",
       "  <tbody>\n",
       "    <tr>\n",
       "      <th>0</th>\n",
       "      <td>0</td>\n",
       "      <td>House Dem Aide: We Didn’t Even See Comey’s Let...</td>\n",
       "      <td>Darrell Lucus</td>\n",
       "      <td>House Dem Aide: We Didn’t Even See Comey’s Let...</td>\n",
       "      <td>1</td>\n",
       "    </tr>\n",
       "    <tr>\n",
       "      <th>1</th>\n",
       "      <td>1</td>\n",
       "      <td>FLYNN: Hillary Clinton, Big Woman on Campus - ...</td>\n",
       "      <td>Daniel J. Flynn</td>\n",
       "      <td>Ever get the feeling your life circles the rou...</td>\n",
       "      <td>0</td>\n",
       "    </tr>\n",
       "    <tr>\n",
       "      <th>2</th>\n",
       "      <td>2</td>\n",
       "      <td>Why the Truth Might Get You Fired</td>\n",
       "      <td>Consortiumnews.com</td>\n",
       "      <td>Why the Truth Might Get You Fired October 29, ...</td>\n",
       "      <td>1</td>\n",
       "    </tr>\n",
       "    <tr>\n",
       "      <th>3</th>\n",
       "      <td>3</td>\n",
       "      <td>15 Civilians Killed In Single US Airstrike Hav...</td>\n",
       "      <td>Jessica Purkiss</td>\n",
       "      <td>Videos 15 Civilians Killed In Single US Airstr...</td>\n",
       "      <td>1</td>\n",
       "    </tr>\n",
       "    <tr>\n",
       "      <th>4</th>\n",
       "      <td>4</td>\n",
       "      <td>Iranian woman jailed for fictional unpublished...</td>\n",
       "      <td>Howard Portnoy</td>\n",
       "      <td>Print \\nAn Iranian woman has been sentenced to...</td>\n",
       "      <td>1</td>\n",
       "    </tr>\n",
       "  </tbody>\n",
       "</table>\n",
       "</div>"
      ],
      "text/plain": [
       "   id                                              title              author  \\\n",
       "0   0  House Dem Aide: We Didn’t Even See Comey’s Let...       Darrell Lucus   \n",
       "1   1  FLYNN: Hillary Clinton, Big Woman on Campus - ...     Daniel J. Flynn   \n",
       "2   2                  Why the Truth Might Get You Fired  Consortiumnews.com   \n",
       "3   3  15 Civilians Killed In Single US Airstrike Hav...     Jessica Purkiss   \n",
       "4   4  Iranian woman jailed for fictional unpublished...      Howard Portnoy   \n",
       "\n",
       "                                                text  label  \n",
       "0  House Dem Aide: We Didn’t Even See Comey’s Let...      1  \n",
       "1  Ever get the feeling your life circles the rou...      0  \n",
       "2  Why the Truth Might Get You Fired October 29, ...      1  \n",
       "3  Videos 15 Civilians Killed In Single US Airstr...      1  \n",
       "4  Print \\nAn Iranian woman has been sentenced to...      1  "
      ]
     },
     "execution_count": 4,
     "metadata": {},
     "output_type": "execute_result"
    }
   ],
   "source": [
    "train.head()"
   ]
  },
  {
   "cell_type": "code",
   "execution_count": 5,
   "metadata": {
    "execution": {
     "iopub.execute_input": "2023-09-03T12:04:08.635622Z",
     "iopub.status.busy": "2023-09-03T12:04:08.635309Z",
     "iopub.status.idle": "2023-09-03T12:04:08.655612Z",
     "shell.execute_reply": "2023-09-03T12:04:08.654744Z",
     "shell.execute_reply.started": "2023-09-03T12:04:08.635591Z"
    },
    "trusted": true
   },
   "outputs": [],
   "source": [
    "df = train.dropna()"
   ]
  },
  {
   "cell_type": "code",
   "execution_count": 6,
   "metadata": {
    "execution": {
     "iopub.execute_input": "2023-09-03T12:04:08.658184Z",
     "iopub.status.busy": "2023-09-03T12:04:08.657850Z",
     "iopub.status.idle": "2023-09-03T12:04:08.673081Z",
     "shell.execute_reply": "2023-09-03T12:04:08.672016Z",
     "shell.execute_reply.started": "2023-09-03T12:04:08.658153Z"
    },
    "trusted": true
   },
   "outputs": [
    {
     "data": {
      "text/plain": [
       "(18285, 4)"
      ]
     },
     "execution_count": 6,
     "metadata": {},
     "output_type": "execute_result"
    }
   ],
   "source": [
    "X = df.drop(\"label\", axis = 1)\n",
    "X.shape"
   ]
  },
  {
   "cell_type": "code",
   "execution_count": 7,
   "metadata": {
    "execution": {
     "iopub.execute_input": "2023-09-03T12:04:08.675733Z",
     "iopub.status.busy": "2023-09-03T12:04:08.675240Z",
     "iopub.status.idle": "2023-09-03T12:04:08.685731Z",
     "shell.execute_reply": "2023-09-03T12:04:08.684894Z",
     "shell.execute_reply.started": "2023-09-03T12:04:08.675709Z"
    },
    "trusted": true
   },
   "outputs": [
    {
     "data": {
      "text/plain": [
       "(18285,)"
      ]
     },
     "execution_count": 7,
     "metadata": {},
     "output_type": "execute_result"
    }
   ],
   "source": [
    "y = df[\"label\"]\n",
    "y.shape"
   ]
  },
  {
   "cell_type": "code",
   "execution_count": 8,
   "metadata": {
    "execution": {
     "iopub.execute_input": "2023-09-03T12:04:08.687580Z",
     "iopub.status.busy": "2023-09-03T12:04:08.687174Z",
     "iopub.status.idle": "2023-09-03T12:04:08.697924Z",
     "shell.execute_reply": "2023-09-03T12:04:08.696732Z",
     "shell.execute_reply.started": "2023-09-03T12:04:08.687531Z"
    },
    "trusted": true
   },
   "outputs": [
    {
     "data": {
      "text/plain": [
       "'FLYNN: Hillary Clinton, Big Woman on Campus - Breitbart'"
      ]
     },
     "execution_count": 8,
     "metadata": {},
     "output_type": "execute_result"
    }
   ],
   "source": [
    "messages=X.copy()\n",
    "messages['title'][1]"
   ]
  },
  {
   "cell_type": "code",
   "execution_count": 9,
   "metadata": {
    "execution": {
     "iopub.execute_input": "2023-09-03T12:04:09.243813Z",
     "iopub.status.busy": "2023-09-03T12:04:09.242996Z",
     "iopub.status.idle": "2023-09-03T12:04:09.250082Z",
     "shell.execute_reply": "2023-09-03T12:04:09.249015Z",
     "shell.execute_reply.started": "2023-09-03T12:04:09.243755Z"
    },
    "trusted": true
   },
   "outputs": [],
   "source": [
    "messages.reset_index(inplace=True)"
   ]
  },
  {
   "cell_type": "markdown",
   "metadata": {},
   "source": [
    "<div class = \"alert alert-danger\">\n",
    "    <h2>Data PreProcessing</h2>\n",
    "</div>"
   ]
  },
  {
   "cell_type": "code",
   "execution_count": 10,
   "metadata": {
    "execution": {
     "iopub.execute_input": "2023-09-03T12:04:09.932930Z",
     "iopub.status.busy": "2023-09-03T12:04:09.932558Z",
     "iopub.status.idle": "2023-09-03T12:04:43.148518Z",
     "shell.execute_reply": "2023-09-03T12:04:43.147299Z",
     "shell.execute_reply.started": "2023-09-03T12:04:09.932900Z"
    },
    "trusted": true
   },
   "outputs": [],
   "source": [
    "ps = PorterStemmer()\n",
    "corpus = []\n",
    "for i in range(0, len(messages)):\n",
    "    review = re.sub('[^a-zA-Z]', ' ', messages['title'][i])\n",
    "    review = review.lower()\n",
    "    review = review.split()\n",
    "    \n",
    "    review = [ps.stem(word) for word in review if not word in stopwords.words('english')]\n",
    "    review = ' '.join(review)\n",
    "    corpus.append(review)"
   ]
  },
  {
   "cell_type": "code",
   "execution_count": null,
   "metadata": {
    "execution": {
     "iopub.execute_input": "2023-09-03T12:04:43.151135Z",
     "iopub.status.busy": "2023-09-03T12:04:43.150664Z",
     "iopub.status.idle": "2023-09-03T12:04:43.413935Z",
     "shell.execute_reply": "2023-09-03T12:04:43.412987Z",
     "shell.execute_reply.started": "2023-09-03T12:04:43.151101Z"
    },
    "trusted": true
   },
   "outputs": [],
   "source": [
    "voc = 10000\n",
    "onehot_repr=[one_hot(words,voc)for words in corpus] "
   ]
  },
  {
   "cell_type": "code",
   "execution_count": 12,
   "metadata": {
    "execution": {
     "iopub.execute_input": "2023-09-03T12:04:43.415658Z",
     "iopub.status.busy": "2023-09-03T12:04:43.415319Z",
     "iopub.status.idle": "2023-09-03T12:04:43.499918Z",
     "shell.execute_reply": "2023-09-03T12:04:43.498568Z",
     "shell.execute_reply.started": "2023-09-03T12:04:43.415626Z"
    },
    "trusted": true
   },
   "outputs": [
    {
     "name": "stdout",
     "output_type": "stream",
     "text": [
      "[[   0    0    0 ... 9132 4634 2992]\n",
      " [   0    0    0 ... 5319 1513 4679]\n",
      " [   0    0    0 ... 4380 4948 5705]\n",
      " ...\n",
      " [   0    0    0 ... 3753 7663 6426]\n",
      " [   0    0    0 ...  465 6343 6078]\n",
      " [   0    0    0 ... 3571 2671 7730]]\n"
     ]
    }
   ],
   "source": [
    "sent_length=20\n",
    "embedded_docs=pad_sequences(onehot_repr,padding='pre',maxlen=sent_length)\n",
    "print(embedded_docs)"
   ]
  },
  {
   "cell_type": "code",
   "execution_count": 13,
   "metadata": {
    "execution": {
     "iopub.execute_input": "2023-09-03T12:04:43.503017Z",
     "iopub.status.busy": "2023-09-03T12:04:43.502471Z",
     "iopub.status.idle": "2023-09-03T12:04:43.510370Z",
     "shell.execute_reply": "2023-09-03T12:04:43.509265Z",
     "shell.execute_reply.started": "2023-09-03T12:04:43.502981Z"
    },
    "trusted": true
   },
   "outputs": [
    {
     "data": {
      "text/plain": [
       "(18285, (18285,))"
      ]
     },
     "execution_count": 13,
     "metadata": {},
     "output_type": "execute_result"
    }
   ],
   "source": [
    "len(embedded_docs),y.shape\n"
   ]
  },
  {
   "cell_type": "code",
   "execution_count": 14,
   "metadata": {
    "execution": {
     "iopub.execute_input": "2023-09-03T12:04:43.512525Z",
     "iopub.status.busy": "2023-09-03T12:04:43.512043Z",
     "iopub.status.idle": "2023-09-03T12:04:43.523508Z",
     "shell.execute_reply": "2023-09-03T12:04:43.522356Z",
     "shell.execute_reply.started": "2023-09-03T12:04:43.512465Z"
    },
    "trusted": true
   },
   "outputs": [
    {
     "data": {
      "text/plain": [
       "((18285, 20), (18285,))"
      ]
     },
     "execution_count": 14,
     "metadata": {},
     "output_type": "execute_result"
    }
   ],
   "source": [
    "X_final=np.array(embedded_docs)\n",
    "y_final=np.array(y)\n",
    "\n",
    "X_final.shape,y_final.shape"
   ]
  },
  {
   "cell_type": "code",
   "execution_count": 15,
   "metadata": {
    "execution": {
     "iopub.execute_input": "2023-09-03T12:04:43.525734Z",
     "iopub.status.busy": "2023-09-03T12:04:43.525336Z",
     "iopub.status.idle": "2023-09-03T12:04:43.534574Z",
     "shell.execute_reply": "2023-09-03T12:04:43.533685Z",
     "shell.execute_reply.started": "2023-09-03T12:04:43.525704Z"
    },
    "trusted": true
   },
   "outputs": [],
   "source": [
    "X_train, X_test, y_train, y_test = train_test_split(X_final, y_final, test_size=0.33, random_state=42)"
   ]
  },
  {
   "cell_type": "code",
   "execution_count": 16,
   "metadata": {
    "execution": {
     "iopub.execute_input": "2023-09-03T12:04:43.536792Z",
     "iopub.status.busy": "2023-09-03T12:04:43.536334Z",
     "iopub.status.idle": "2023-09-03T12:04:43.544742Z",
     "shell.execute_reply": "2023-09-03T12:04:43.543676Z",
     "shell.execute_reply.started": "2023-09-03T12:04:43.536741Z"
    },
    "trusted": true
   },
   "outputs": [
    {
     "data": {
      "text/plain": [
       "array([1, 1, 0, ..., 0, 0, 1])"
      ]
     },
     "execution_count": 16,
     "metadata": {},
     "output_type": "execute_result"
    }
   ],
   "source": [
    "y_train"
   ]
  },
  {
   "cell_type": "markdown",
   "metadata": {},
   "source": [
    "<div class = \"alert alert-success\">\n",
    "    <h1>RNN Model</h1>\n",
    "</div>"
   ]
  },
  {
   "cell_type": "code",
   "execution_count": 17,
   "metadata": {
    "execution": {
     "iopub.execute_input": "2023-09-03T12:04:43.546941Z",
     "iopub.status.busy": "2023-09-03T12:04:43.546495Z",
     "iopub.status.idle": "2023-09-03T12:04:48.226841Z",
     "shell.execute_reply": "2023-09-03T12:04:48.226076Z",
     "shell.execute_reply.started": "2023-09-03T12:04:43.546853Z"
    },
    "trusted": true
   },
   "outputs": [
    {
     "name": "stdout",
     "output_type": "stream",
     "text": [
      "Model: \"sequential\"\n",
      "_________________________________________________________________\n",
      " Layer (type)                Output Shape              Param #   \n",
      "=================================================================\n",
      " embedding (Embedding)       (None, 20, 40)            400000    \n",
      "                                                                 \n",
      " simple_rnn (SimpleRNN)      (None, 100)               14100     \n",
      "                                                                 \n",
      " dense (Dense)               (None, 1)                 101       \n",
      "                                                                 \n",
      "=================================================================\n",
      "Total params: 414,201\n",
      "Trainable params: 414,201\n",
      "Non-trainable params: 0\n",
      "_________________________________________________________________\n"
     ]
    }
   ],
   "source": [
    "# RNN Model\n",
    "\n",
    "embedding_vector_features=40\n",
    "\n",
    "rnn = Sequential()\n",
    "rnn.add(Embedding(voc,embedding_vector_features,input_length=sent_length))\n",
    "rnn.add(SimpleRNN(100,return_sequences=False))\n",
    "\n",
    "rnn.add(Dense(1, activation='sigmoid'))\n",
    "\n",
    "rnn.summary()"
   ]
  },
  {
   "cell_type": "code",
   "execution_count": 18,
   "metadata": {
    "execution": {
     "iopub.execute_input": "2023-09-03T12:04:48.228508Z",
     "iopub.status.busy": "2023-09-03T12:04:48.228159Z",
     "iopub.status.idle": "2023-09-03T12:08:58.061910Z",
     "shell.execute_reply": "2023-09-03T12:08:58.060913Z",
     "shell.execute_reply.started": "2023-09-03T12:04:48.228476Z"
    },
    "trusted": true
   },
   "outputs": [
    {
     "name": "stdout",
     "output_type": "stream",
     "text": [
      "Epoch 1/20\n",
      "383/383 [==============================] - 31s 65ms/step - loss: 0.2649 - accuracy: 0.8842 - val_loss: 0.1815 - val_accuracy: 0.9218\n",
      "Epoch 2/20\n",
      "383/383 [==============================] - 13s 34ms/step - loss: 0.0803 - accuracy: 0.9713 - val_loss: 0.2291 - val_accuracy: 0.9162\n",
      "Epoch 3/20\n",
      "383/383 [==============================] - 11s 28ms/step - loss: 0.0151 - accuracy: 0.9960 - val_loss: 0.3012 - val_accuracy: 0.9173\n",
      "Epoch 4/20\n",
      "383/383 [==============================] - 14s 37ms/step - loss: 0.0022 - accuracy: 0.9997 - val_loss: 0.3557 - val_accuracy: 0.9142\n",
      "Epoch 5/20\n",
      "383/383 [==============================] - 12s 31ms/step - loss: 3.7120e-04 - accuracy: 1.0000 - val_loss: 0.3717 - val_accuracy: 0.9135\n",
      "Epoch 6/20\n",
      "383/383 [==============================] - 10s 27ms/step - loss: 1.5847e-04 - accuracy: 1.0000 - val_loss: 0.4048 - val_accuracy: 0.9163\n",
      "Epoch 7/20\n",
      "383/383 [==============================] - 10s 26ms/step - loss: 9.8753e-05 - accuracy: 1.0000 - val_loss: 0.4154 - val_accuracy: 0.9145\n",
      "Epoch 8/20\n",
      "383/383 [==============================] - 11s 30ms/step - loss: 6.6821e-05 - accuracy: 1.0000 - val_loss: 0.4398 - val_accuracy: 0.9160\n",
      "Epoch 9/20\n",
      "383/383 [==============================] - 11s 29ms/step - loss: 4.7489e-05 - accuracy: 1.0000 - val_loss: 0.4471 - val_accuracy: 0.9145\n",
      "Epoch 10/20\n",
      "383/383 [==============================] - 11s 28ms/step - loss: 3.4837e-05 - accuracy: 1.0000 - val_loss: 0.4667 - val_accuracy: 0.9153\n",
      "Epoch 11/20\n",
      "383/383 [==============================] - 11s 30ms/step - loss: 2.6205e-05 - accuracy: 1.0000 - val_loss: 0.4758 - val_accuracy: 0.9142\n",
      "Epoch 12/20\n",
      "383/383 [==============================] - 11s 28ms/step - loss: 1.9787e-05 - accuracy: 1.0000 - val_loss: 0.4907 - val_accuracy: 0.9150\n",
      "Epoch 13/20\n",
      "383/383 [==============================] - 10s 26ms/step - loss: 1.5303e-05 - accuracy: 1.0000 - val_loss: 0.4895 - val_accuracy: 0.9128\n",
      "Epoch 14/20\n",
      "383/383 [==============================] - 12s 30ms/step - loss: 1.2067e-05 - accuracy: 1.0000 - val_loss: 0.5057 - val_accuracy: 0.9132\n",
      "Epoch 15/20\n",
      "383/383 [==============================] - 9s 25ms/step - loss: 9.3712e-06 - accuracy: 1.0000 - val_loss: 0.5089 - val_accuracy: 0.9114\n",
      "Epoch 16/20\n",
      "383/383 [==============================] - 11s 29ms/step - loss: 7.5084e-06 - accuracy: 1.0000 - val_loss: 0.5312 - val_accuracy: 0.9133\n",
      "Epoch 17/20\n",
      "383/383 [==============================] - 11s 30ms/step - loss: 5.8415e-06 - accuracy: 1.0000 - val_loss: 0.5351 - val_accuracy: 0.9132\n",
      "Epoch 18/20\n",
      "383/383 [==============================] - 10s 27ms/step - loss: 4.7008e-06 - accuracy: 1.0000 - val_loss: 0.5470 - val_accuracy: 0.9132\n",
      "Epoch 19/20\n",
      "383/383 [==============================] - 12s 32ms/step - loss: 3.7581e-06 - accuracy: 1.0000 - val_loss: 0.5643 - val_accuracy: 0.9138\n",
      "Epoch 20/20\n",
      "383/383 [==============================] - 17s 45ms/step - loss: 3.0334e-06 - accuracy: 1.0000 - val_loss: 0.5744 - val_accuracy: 0.9135\n"
     ]
    }
   ],
   "source": [
    "rnn.compile(optimizer='adam', loss='binary_crossentropy', metrics=['accuracy'])\n",
    "history = rnn.fit(X_train, y_train,epochs=20,batch_size=32,validation_data=(X_test,y_test))"
   ]
  },
  {
   "cell_type": "markdown",
   "metadata": {},
   "source": [
    "<div class = \"alert alert-info\">\n",
    "    <h3>Line Plot: Overfitting</h3>\n",
    "</div>"
   ]
  },
  {
   "cell_type": "code",
   "execution_count": 28,
   "metadata": {
    "execution": {
     "iopub.execute_input": "2023-09-03T12:14:07.900701Z",
     "iopub.status.busy": "2023-09-03T12:14:07.899822Z",
     "iopub.status.idle": "2023-09-03T12:14:08.647199Z",
     "shell.execute_reply": "2023-09-03T12:14:08.646150Z",
     "shell.execute_reply.started": "2023-09-03T12:14:07.900655Z"
    },
    "trusted": true
   },
   "outputs": [
    {
     "data": {
      "image/png": "[encoded data removed]",
      "text/plain": [
       "<Figure size 1200x500 with 2 Axes>"
      ]
     },
     "metadata": {},
     "output_type": "display_data"
    }
   ],
   "source": [
    "plt.figure(figsize=(12, 5))\n",
    "\n",
    "#  Accuracy\n",
    "plt.subplot(1, 2, 1)  \n",
    "plt.plot(history.history[\"accuracy\"], label=\"Training Accuracy\", c=\"red\")\n",
    "plt.plot(history.history[\"val_accuracy\"], label=\"Validation Accuracy\", c=\"blue\")\n",
    "plt.title(\"Accuracy\")\n",
    "plt.xlabel(\"Epoch\")\n",
    "plt.ylabel(\"Accuracy\")\n",
    "plt.legend()\n",
    "\n",
    "#  Loss\n",
    "plt.subplot(1, 2, 2)  \n",
    "plt.plot(history.history[\"loss\"], label=\"Training Loss\", c=\"red\")\n",
    "plt.plot(history.history[\"val_loss\"], label=\"Validation Loss\", c=\"blue\")\n",
    "plt.title(\"Loss\")\n",
    "plt.xlabel(\"Epoch\")\n",
    "plt.ylabel(\"Loss\")\n",
    "plt.legend()\n",
    "\n",
    "\n",
    "plt.tight_layout()  \n",
    "plt.show()\n"
   ]
  },
  {
   "cell_type": "markdown",
   "metadata": {},
   "source": [
    "<div class= \"alert alert-warning\">\n",
    "    <h3>Evaluation & Performance</h3>\n",
    "</div>"
   ]
  },
  {
   "cell_type": "code",
   "execution_count": 29,
   "metadata": {
    "execution": {
     "iopub.execute_input": "2023-09-03T12:14:19.906464Z",
     "iopub.status.busy": "2023-09-03T12:14:19.906116Z",
     "iopub.status.idle": "2023-09-03T12:14:20.640948Z",
     "shell.execute_reply": "2023-09-03T12:14:20.639979Z",
     "shell.execute_reply.started": "2023-09-03T12:14:19.906436Z"
    },
    "trusted": true
   },
   "outputs": [
    {
     "name": "stdout",
     "output_type": "stream",
     "text": [
      "189/189 [==============================] - 1s 3ms/step\n"
     ]
    }
   ],
   "source": [
    "y_rnn=rnn.predict(X_test)\n",
    "y_rnn = (y_rnn>0.5).astype(int)"
   ]
  },
  {
   "cell_type": "code",
   "execution_count": 30,
   "metadata": {
    "execution": {
     "iopub.execute_input": "2023-09-03T12:14:20.643226Z",
     "iopub.status.busy": "2023-09-03T12:14:20.642883Z",
     "iopub.status.idle": "2023-09-03T12:14:20.652817Z",
     "shell.execute_reply": "2023-09-03T12:14:20.651701Z",
     "shell.execute_reply.started": "2023-09-03T12:14:20.643192Z"
    },
    "trusted": true
   },
   "outputs": [
    {
     "data": {
      "text/plain": [
       "0.9135045567522784"
      ]
     },
     "execution_count": 30,
     "metadata": {},
     "output_type": "execute_result"
    }
   ],
   "source": [
    "accuracy_score(y_test,y_rnn)"
   ]
  },
  {
   "cell_type": "code",
   "execution_count": 31,
   "metadata": {
    "execution": {
     "iopub.execute_input": "2023-09-03T12:14:21.574631Z",
     "iopub.status.busy": "2023-09-03T12:14:21.574245Z",
     "iopub.status.idle": "2023-09-03T12:14:21.588231Z",
     "shell.execute_reply": "2023-09-03T12:14:21.586982Z",
     "shell.execute_reply.started": "2023-09-03T12:14:21.574599Z"
    },
    "trusted": true
   },
   "outputs": [
    {
     "data": {
      "text/plain": [
       "array([[3086,  333],\n",
       "       [ 189, 2427]])"
      ]
     },
     "execution_count": 31,
     "metadata": {},
     "output_type": "execute_result"
    }
   ],
   "source": [
    "confusion_matrix(y_test,y_rnn)"
   ]
  },
  {
   "cell_type": "code",
   "execution_count": 32,
   "metadata": {
    "execution": {
     "iopub.execute_input": "2023-09-03T12:14:22.393826Z",
     "iopub.status.busy": "2023-09-03T12:14:22.393459Z",
     "iopub.status.idle": "2023-09-03T12:14:22.416188Z",
     "shell.execute_reply": "2023-09-03T12:14:22.415158Z",
     "shell.execute_reply.started": "2023-09-03T12:14:22.393793Z"
    },
    "trusted": true
   },
   "outputs": [
    {
     "name": "stdout",
     "output_type": "stream",
     "text": [
      "              precision    recall  f1-score   support\n",
      "\n",
      "           0       0.94      0.90      0.92      3419\n",
      "           1       0.88      0.93      0.90      2616\n",
      "\n",
      "    accuracy                           0.91      6035\n",
      "   macro avg       0.91      0.92      0.91      6035\n",
      "weighted avg       0.92      0.91      0.91      6035\n",
      "\n"
     ]
    }
   ],
   "source": [
    "print(classification_report(y_test,y_rnn))\n"
   ]
  },
  {
   "cell_type": "markdown",
   "metadata": {},
   "source": [
    "<div class = \"alert alert-danger\">\n",
    "    <h1>LSTM Model</h1>\n",
    "</div>"
   ]
  },
  {
   "cell_type": "code",
   "execution_count": 33,
   "metadata": {
    "execution": {
     "iopub.execute_input": "2023-09-03T12:15:24.773478Z",
     "iopub.status.busy": "2023-09-03T12:15:24.773125Z",
     "iopub.status.idle": "2023-09-03T12:15:25.141938Z",
     "shell.execute_reply": "2023-09-03T12:15:25.141187Z",
     "shell.execute_reply.started": "2023-09-03T12:15:24.773449Z"
    },
    "trusted": true
   },
   "outputs": [
    {
     "name": "stdout",
     "output_type": "stream",
     "text": [
      "Model: \"sequential_1\"\n",
      "_________________________________________________________________\n",
      " Layer (type)                Output Shape              Param #   \n",
      "=================================================================\n",
      " embedding_1 (Embedding)     (None, 20, 40)            400000    \n",
      "                                                                 \n",
      " dropout (Dropout)           (None, 20, 40)            0         \n",
      "                                                                 \n",
      " lstm (LSTM)                 (None, 100)               56400     \n",
      "                                                                 \n",
      " dropout_1 (Dropout)         (None, 100)               0         \n",
      "                                                                 \n",
      " dense_1 (Dense)             (None, 1)                 101       \n",
      "                                                                 \n",
      "=================================================================\n",
      "Total params: 456,501\n",
      "Trainable params: 456,501\n",
      "Non-trainable params: 0\n",
      "_________________________________________________________________\n"
     ]
    }
   ],
   "source": [
    "## LSTM Model\n",
    "\n",
    "embedding_vector_features=40\n",
    "lstm=Sequential()\n",
    "lstm.add(Embedding(voc,embedding_vector_features,input_length=sent_length))\n",
    "lstm.add(Dropout(0.3))\n",
    "lstm.add(LSTM(100))\n",
    "lstm.add(Dropout(0.3))\n",
    "lstm.add(Dense(1,activation='sigmoid'))\n",
    "lstm.compile(loss='binary_crossentropy',optimizer='adam',metrics=['accuracy'])\n",
    "lstm.summary()"
   ]
  },
  {
   "cell_type": "code",
   "execution_count": 34,
   "metadata": {
    "execution": {
     "iopub.execute_input": "2023-09-03T12:15:38.222605Z",
     "iopub.status.busy": "2023-09-03T12:15:38.222247Z",
     "iopub.status.idle": "2023-09-03T12:17:01.987253Z",
     "shell.execute_reply": "2023-09-03T12:17:01.986257Z",
     "shell.execute_reply.started": "2023-09-03T12:15:38.222576Z"
    },
    "trusted": true
   },
   "outputs": [
    {
     "name": "stdout",
     "output_type": "stream",
     "text": [
      "Epoch 1/20\n",
      "383/383 [==============================] - 16s 34ms/step - loss: 0.2831 - accuracy: 0.8694 - val_loss: 0.1923 - val_accuracy: 0.9215\n",
      "Epoch 2/20\n",
      "383/383 [==============================] - 4s 11ms/step - loss: 0.1307 - accuracy: 0.9510 - val_loss: 0.1886 - val_accuracy: 0.9215\n",
      "Epoch 3/20\n",
      "383/383 [==============================] - 4s 10ms/step - loss: 0.0792 - accuracy: 0.9716 - val_loss: 0.2329 - val_accuracy: 0.9198\n",
      "Epoch 4/20\n",
      "383/383 [==============================] - 4s 9ms/step - loss: 0.0511 - accuracy: 0.9829 - val_loss: 0.2726 - val_accuracy: 0.9193\n",
      "Epoch 5/20\n",
      "383/383 [==============================] - 3s 8ms/step - loss: 0.0301 - accuracy: 0.9899 - val_loss: 0.3044 - val_accuracy: 0.9115\n",
      "Epoch 6/20\n",
      "383/383 [==============================] - 3s 8ms/step - loss: 0.0197 - accuracy: 0.9936 - val_loss: 0.3857 - val_accuracy: 0.9065\n",
      "Epoch 7/20\n",
      "383/383 [==============================] - 3s 8ms/step - loss: 0.0185 - accuracy: 0.9937 - val_loss: 0.3612 - val_accuracy: 0.9067\n",
      "Epoch 8/20\n",
      "383/383 [==============================] - 3s 7ms/step - loss: 0.0106 - accuracy: 0.9963 - val_loss: 0.4489 - val_accuracy: 0.9133\n",
      "Epoch 9/20\n",
      "383/383 [==============================] - 3s 8ms/step - loss: 0.0069 - accuracy: 0.9978 - val_loss: 0.5205 - val_accuracy: 0.9142\n",
      "Epoch 10/20\n",
      "383/383 [==============================] - 3s 7ms/step - loss: 0.0085 - accuracy: 0.9969 - val_loss: 0.5218 - val_accuracy: 0.9158\n",
      "Epoch 11/20\n",
      "383/383 [==============================] - 3s 7ms/step - loss: 0.0075 - accuracy: 0.9980 - val_loss: 0.4667 - val_accuracy: 0.9115\n",
      "Epoch 12/20\n",
      "383/383 [==============================] - 3s 8ms/step - loss: 0.0046 - accuracy: 0.9980 - val_loss: 0.6092 - val_accuracy: 0.9109\n",
      "Epoch 13/20\n",
      "383/383 [==============================] - 3s 9ms/step - loss: 0.0043 - accuracy: 0.9986 - val_loss: 0.5899 - val_accuracy: 0.9128\n",
      "Epoch 14/20\n",
      "383/383 [==============================] - 3s 8ms/step - loss: 0.0052 - accuracy: 0.9982 - val_loss: 0.6063 - val_accuracy: 0.9060\n",
      "Epoch 15/20\n",
      "383/383 [==============================] - 3s 8ms/step - loss: 0.0059 - accuracy: 0.9981 - val_loss: 0.5561 - val_accuracy: 0.9085\n",
      "Epoch 16/20\n",
      "383/383 [==============================] - 3s 9ms/step - loss: 0.0036 - accuracy: 0.9986 - val_loss: 0.6022 - val_accuracy: 0.9109\n",
      "Epoch 17/20\n",
      "383/383 [==============================] - 3s 8ms/step - loss: 0.0031 - accuracy: 0.9991 - val_loss: 0.6596 - val_accuracy: 0.9107\n",
      "Epoch 18/20\n",
      "383/383 [==============================] - 3s 9ms/step - loss: 0.0022 - accuracy: 0.9993 - val_loss: 0.5701 - val_accuracy: 0.9065\n",
      "Epoch 19/20\n",
      "383/383 [==============================] - 3s 8ms/step - loss: 0.0027 - accuracy: 0.9992 - val_loss: 0.6359 - val_accuracy: 0.9128\n",
      "Epoch 20/20\n",
      "383/383 [==============================] - 3s 8ms/step - loss: 0.0020 - accuracy: 0.9994 - val_loss: 0.7296 - val_accuracy: 0.9084\n"
     ]
    }
   ],
   "source": [
    "### Finally Training\n",
    "history = lstm.fit(X_train,y_train,validation_data=(X_test,y_test),epochs=20,batch_size=32)"
   ]
  },
  {
   "cell_type": "markdown",
   "metadata": {},
   "source": [
    "<div class = \"alert alert-info\">\n",
    "    <h3>Line Plot: Overfitting</h3>\n",
    "</div>"
   ]
  },
  {
   "cell_type": "code",
   "execution_count": 35,
   "metadata": {
    "execution": {
     "iopub.execute_input": "2023-09-03T12:17:01.989883Z",
     "iopub.status.busy": "2023-09-03T12:17:01.989240Z",
     "iopub.status.idle": "2023-09-03T12:17:02.744930Z",
     "shell.execute_reply": "2023-09-03T12:17:02.742569Z",
     "shell.execute_reply.started": "2023-09-03T12:17:01.989848Z"
    },
    "trusted": true
   },
   "outputs": [
    {
     "data": {
      "image/png": "[encoded data removed]",
      "text/plain": [
       "<Figure size 1200x500 with 2 Axes>"
      ]
     },
     "metadata": {},
     "output_type": "display_data"
    }
   ],
   "source": [
    "plt.figure(figsize=(12, 5))\n",
    "\n",
    "#  Accuracy\n",
    "plt.subplot(1, 2, 1)  \n",
    "plt.plot(history.history[\"accuracy\"], label=\"Training Accuracy\", c=\"red\")\n",
    "plt.plot(history.history[\"val_accuracy\"], label=\"Validation Accuracy\", c=\"blue\")\n",
    "plt.title(\"Accuracy\")\n",
    "plt.xlabel(\"Epoch\")\n",
    "plt.ylabel(\"Accuracy\")\n",
    "plt.legend()\n",
    "\n",
    "#  Loss\n",
    "plt.subplot(1, 2, 2)  \n",
    "plt.plot(history.history[\"loss\"], label=\"Training Loss\", c=\"red\")\n",
    "plt.plot(history.history[\"val_loss\"], label=\"Validation Loss\", c=\"blue\")\n",
    "plt.title(\"Loss\")\n",
    "plt.xlabel(\"Epoch\")\n",
    "plt.ylabel(\"Loss\")\n",
    "plt.legend()\n",
    "\n",
    "\n",
    "plt.tight_layout()  \n",
    "plt.show()\n"
   ]
  },
  {
   "cell_type": "markdown",
   "metadata": {},
   "source": [
    "<div class= \"alert alert-warning\">\n",
    "    <h3>Evaluation & Performance</h3>\n",
    "</div>"
   ]
  },
  {
   "cell_type": "code",
   "execution_count": 36,
   "metadata": {
    "execution": {
     "iopub.execute_input": "2023-09-03T12:17:15.688532Z",
     "iopub.status.busy": "2023-09-03T12:17:15.688158Z",
     "iopub.status.idle": "2023-09-03T12:17:16.700442Z",
     "shell.execute_reply": "2023-09-03T12:17:16.699490Z",
     "shell.execute_reply.started": "2023-09-03T12:17:15.688502Z"
    },
    "trusted": true
   },
   "outputs": [
    {
     "name": "stdout",
     "output_type": "stream",
     "text": [
      "189/189 [==============================] - 1s 2ms/step\n"
     ]
    }
   ],
   "source": [
    "y_lstm=lstm.predict(X_test)\n",
    "y_lstm = (y_lstm>0.5).astype(int)"
   ]
  },
  {
   "cell_type": "code",
   "execution_count": 37,
   "metadata": {
    "execution": {
     "iopub.execute_input": "2023-09-03T12:17:17.694347Z",
     "iopub.status.busy": "2023-09-03T12:17:17.693998Z",
     "iopub.status.idle": "2023-09-03T12:17:17.703796Z",
     "shell.execute_reply": "2023-09-03T12:17:17.702741Z",
     "shell.execute_reply.started": "2023-09-03T12:17:17.694319Z"
    },
    "trusted": true
   },
   "outputs": [
    {
     "data": {
      "text/plain": [
       "0.9083678541839271"
      ]
     },
     "execution_count": 37,
     "metadata": {},
     "output_type": "execute_result"
    }
   ],
   "source": [
    "accuracy_score(y_test,y_lstm)"
   ]
  },
  {
   "cell_type": "code",
   "execution_count": 38,
   "metadata": {
    "execution": {
     "iopub.execute_input": "2023-09-03T12:17:20.845645Z",
     "iopub.status.busy": "2023-09-03T12:17:20.845294Z",
     "iopub.status.idle": "2023-09-03T12:17:20.857333Z",
     "shell.execute_reply": "2023-09-03T12:17:20.856181Z",
     "shell.execute_reply.started": "2023-09-03T12:17:20.845617Z"
    },
    "trusted": true
   },
   "outputs": [
    {
     "data": {
      "text/plain": [
       "array([[3136,  283],\n",
       "       [ 270, 2346]])"
      ]
     },
     "execution_count": 38,
     "metadata": {},
     "output_type": "execute_result"
    }
   ],
   "source": [
    "confusion_matrix(y_test,y_lstm)"
   ]
  },
  {
   "cell_type": "code",
   "execution_count": 39,
   "metadata": {
    "execution": {
     "iopub.execute_input": "2023-09-03T12:17:25.609534Z",
     "iopub.status.busy": "2023-09-03T12:17:25.609193Z",
     "iopub.status.idle": "2023-09-03T12:17:25.633675Z",
     "shell.execute_reply": "2023-09-03T12:17:25.632813Z",
     "shell.execute_reply.started": "2023-09-03T12:17:25.609507Z"
    },
    "trusted": true
   },
   "outputs": [
    {
     "name": "stdout",
     "output_type": "stream",
     "text": [
      "              precision    recall  f1-score   support\n",
      "\n",
      "           0       0.92      0.92      0.92      3419\n",
      "           1       0.89      0.90      0.89      2616\n",
      "\n",
      "    accuracy                           0.91      6035\n",
      "   macro avg       0.91      0.91      0.91      6035\n",
      "weighted avg       0.91      0.91      0.91      6035\n",
      "\n"
     ]
    }
   ],
   "source": [
    "print(classification_report(y_test,y_lstm))"
   ]
  },
  {
   "cell_type": "markdown",
   "metadata": {},
   "source": [
    "<div class = \"alert alert-success\">\n",
    "    <h1>Bidirectional Model</h1>\n",
    "</div>"
   ]
  },
  {
   "cell_type": "code",
   "execution_count": 40,
   "metadata": {
    "execution": {
     "iopub.execute_input": "2023-09-03T12:17:54.390931Z",
     "iopub.status.busy": "2023-09-03T12:17:54.390565Z",
     "iopub.status.idle": "2023-09-03T12:17:54.937969Z",
     "shell.execute_reply": "2023-09-03T12:17:54.937242Z",
     "shell.execute_reply.started": "2023-09-03T12:17:54.390902Z"
    },
    "trusted": true
   },
   "outputs": [
    {
     "name": "stdout",
     "output_type": "stream",
     "text": [
      "Model: \"sequential_2\"\n",
      "_________________________________________________________________\n",
      " Layer (type)                Output Shape              Param #   \n",
      "=================================================================\n",
      " embedding_2 (Embedding)     (None, 20, 40)            400000    \n",
      "                                                                 \n",
      " bidirectional (Bidirectiona  (None, 200)              112800    \n",
      " l)                                                              \n",
      "                                                                 \n",
      " dropout_2 (Dropout)         (None, 200)               0         \n",
      "                                                                 \n",
      " dense_2 (Dense)             (None, 1)                 201       \n",
      "                                                                 \n",
      "=================================================================\n",
      "Total params: 513,001\n",
      "Trainable params: 513,001\n",
      "Non-trainable params: 0\n",
      "_________________________________________________________________\n"
     ]
    }
   ],
   "source": [
    "#Bidirectional Model\n",
    "\n",
    "embedding_vector_features=40\n",
    "bid=Sequential()\n",
    "bid.add(Embedding(voc,embedding_vector_features,input_length=sent_length))\n",
    "bid.add(Bidirectional(LSTM(100)))\n",
    "bid.add(Dropout(0.3))\n",
    "bid.add(Dense(1,activation='sigmoid'))\n",
    "bid.compile(loss='binary_crossentropy',optimizer='adam',metrics=['accuracy'])\n",
    "bid.summary()"
   ]
  },
  {
   "cell_type": "code",
   "execution_count": 41,
   "metadata": {
    "execution": {
     "iopub.execute_input": "2023-09-03T12:18:08.476639Z",
     "iopub.status.busy": "2023-09-03T12:18:08.475809Z",
     "iopub.status.idle": "2023-09-03T12:20:33.836296Z",
     "shell.execute_reply": "2023-09-03T12:20:33.835223Z",
     "shell.execute_reply.started": "2023-09-03T12:18:08.476605Z"
    },
    "trusted": true
   },
   "outputs": [
    {
     "name": "stdout",
     "output_type": "stream",
     "text": [
      "Epoch 1/20\n",
      "383/383 [==============================] - 18s 36ms/step - loss: 0.2620 - accuracy: 0.8827 - val_loss: 0.2138 - val_accuracy: 0.9196\n",
      "Epoch 2/20\n",
      "383/383 [==============================] - 4s 12ms/step - loss: 0.1197 - accuracy: 0.9549 - val_loss: 0.2340 - val_accuracy: 0.9067\n",
      "Epoch 3/20\n",
      "383/383 [==============================] - 5s 13ms/step - loss: 0.0689 - accuracy: 0.9747 - val_loss: 0.2824 - val_accuracy: 0.9132\n",
      "Epoch 4/20\n",
      "383/383 [==============================] - 4s 11ms/step - loss: 0.0377 - accuracy: 0.9869 - val_loss: 0.3699 - val_accuracy: 0.8983\n",
      "Epoch 5/20\n",
      "383/383 [==============================] - 3s 9ms/step - loss: 0.0249 - accuracy: 0.9920 - val_loss: 0.4197 - val_accuracy: 0.9082\n",
      "Epoch 6/20\n",
      "383/383 [==============================] - 4s 10ms/step - loss: 0.0164 - accuracy: 0.9945 - val_loss: 0.4626 - val_accuracy: 0.9021\n",
      "Epoch 7/20\n",
      "383/383 [==============================] - 4s 10ms/step - loss: 0.0105 - accuracy: 0.9976 - val_loss: 0.6127 - val_accuracy: 0.9039\n",
      "Epoch 8/20\n",
      "383/383 [==============================] - 4s 11ms/step - loss: 0.0069 - accuracy: 0.9978 - val_loss: 0.5332 - val_accuracy: 0.9072\n",
      "Epoch 9/20\n",
      "383/383 [==============================] - 4s 10ms/step - loss: 0.0057 - accuracy: 0.9984 - val_loss: 0.6256 - val_accuracy: 0.9057\n",
      "Epoch 10/20\n",
      "383/383 [==============================] - 4s 9ms/step - loss: 0.0021 - accuracy: 0.9997 - val_loss: 0.7722 - val_accuracy: 0.9019\n",
      "Epoch 11/20\n",
      "383/383 [==============================] - 4s 10ms/step - loss: 0.0018 - accuracy: 0.9996 - val_loss: 0.6785 - val_accuracy: 0.9017\n",
      "Epoch 12/20\n",
      "383/383 [==============================] - 4s 10ms/step - loss: 0.0054 - accuracy: 0.9980 - val_loss: 0.8560 - val_accuracy: 0.8923\n",
      "Epoch 13/20\n",
      "383/383 [==============================] - 4s 9ms/step - loss: 0.0118 - accuracy: 0.9955 - val_loss: 0.7004 - val_accuracy: 0.8923\n",
      "Epoch 14/20\n",
      "383/383 [==============================] - 4s 11ms/step - loss: 0.0046 - accuracy: 0.9984 - val_loss: 0.6103 - val_accuracy: 0.9075\n",
      "Epoch 15/20\n",
      "383/383 [==============================] - 4s 10ms/step - loss: 0.0040 - accuracy: 0.9987 - val_loss: 0.6452 - val_accuracy: 0.8949\n",
      "Epoch 16/20\n",
      "383/383 [==============================] - 3s 9ms/step - loss: 0.0012 - accuracy: 0.9996 - val_loss: 0.7449 - val_accuracy: 0.9064\n",
      "Epoch 17/20\n",
      "383/383 [==============================] - 4s 9ms/step - loss: 0.0020 - accuracy: 0.9994 - val_loss: 0.6583 - val_accuracy: 0.9090\n",
      "Epoch 18/20\n",
      "383/383 [==============================] - 4s 9ms/step - loss: 0.0061 - accuracy: 0.9986 - val_loss: 0.6159 - val_accuracy: 0.9036\n",
      "Epoch 19/20\n",
      "383/383 [==============================] - 4s 9ms/step - loss: 0.0035 - accuracy: 0.9989 - val_loss: 0.6371 - val_accuracy: 0.9051\n",
      "Epoch 20/20\n",
      "383/383 [==============================] - 4s 9ms/step - loss: 2.9232e-04 - accuracy: 1.0000 - val_loss: 0.7242 - val_accuracy: 0.9049\n"
     ]
    }
   ],
   "source": [
    "history = bid.fit(X_train,y_train,validation_data=(X_test,y_test),epochs=20,batch_size=32)"
   ]
  },
  {
   "cell_type": "markdown",
   "metadata": {},
   "source": [
    "<div class = \"alert alert-info\">\n",
    "    <h3>Line Plot: Overfitting</h3>\n",
    "</div>"
   ]
  },
  {
   "cell_type": "code",
   "execution_count": 42,
   "metadata": {
    "execution": {
     "iopub.execute_input": "2023-09-03T12:20:33.839056Z",
     "iopub.status.busy": "2023-09-03T12:20:33.838664Z",
     "iopub.status.idle": "2023-09-03T12:20:34.475857Z",
     "shell.execute_reply": "2023-09-03T12:20:34.474918Z",
     "shell.execute_reply.started": "2023-09-03T12:20:33.839022Z"
    },
    "trusted": true
   },
   "outputs": [
    {
     "data": {
      "image/png": "[encoded data removed]",
      "text/plain": [
       "<Figure size 1200x500 with 2 Axes>"
      ]
     },
     "metadata": {},
     "output_type": "display_data"
    }
   ],
   "source": [
    "plt.figure(figsize=(12, 5))\n",
    "\n",
    "#  Accuracy\n",
    "plt.subplot(1, 2, 1)  \n",
    "plt.plot(history.history[\"accuracy\"], label=\"Training Accuracy\", c=\"red\")\n",
    "plt.plot(history.history[\"val_accuracy\"], label=\"Validation Accuracy\", c=\"blue\")\n",
    "plt.title(\"Accuracy\")\n",
    "plt.xlabel(\"Epoch\")\n",
    "plt.ylabel(\"Accuracy\")\n",
    "plt.legend()\n",
    "\n",
    "#  Loss\n",
    "plt.subplot(1, 2, 2)  \n",
    "plt.plot(history.history[\"loss\"], label=\"Training Loss\", c=\"red\")\n",
    "plt.plot(history.history[\"val_loss\"], label=\"Validation Loss\", c=\"blue\")\n",
    "plt.title(\"Loss\")\n",
    "plt.xlabel(\"Epoch\")\n",
    "plt.ylabel(\"Loss\")\n",
    "plt.legend()\n",
    "\n",
    "\n",
    "plt.tight_layout()  \n",
    "plt.show()\n"
   ]
  },
  {
   "cell_type": "markdown",
   "metadata": {},
   "source": [
    "<div class= \"alert alert-warning\">\n",
    "    <h3>Evaluation & Performance</h3>\n",
    "</div>"
   ]
  },
  {
   "cell_type": "code",
   "execution_count": 43,
   "metadata": {
    "execution": {
     "iopub.execute_input": "2023-09-03T12:20:43.681331Z",
     "iopub.status.busy": "2023-09-03T12:20:43.680987Z",
     "iopub.status.idle": "2023-09-03T12:20:45.060111Z",
     "shell.execute_reply": "2023-09-03T12:20:45.058827Z",
     "shell.execute_reply.started": "2023-09-03T12:20:43.681303Z"
    },
    "trusted": true
   },
   "outputs": [
    {
     "name": "stdout",
     "output_type": "stream",
     "text": [
      "189/189 [==============================] - 1s 3ms/step\n"
     ]
    }
   ],
   "source": [
    "y_bid=bid.predict(X_test)\n",
    "y_bid = (y_bid>0.5).astype(int)"
   ]
  },
  {
   "cell_type": "code",
   "execution_count": 44,
   "metadata": {
    "execution": {
     "iopub.execute_input": "2023-09-03T12:20:45.064483Z",
     "iopub.status.busy": "2023-09-03T12:20:45.064188Z",
     "iopub.status.idle": "2023-09-03T12:20:45.083906Z",
     "shell.execute_reply": "2023-09-03T12:20:45.082819Z",
     "shell.execute_reply.started": "2023-09-03T12:20:45.064457Z"
    },
    "trusted": true
   },
   "outputs": [
    {
     "data": {
      "text/plain": [
       "0.9048881524440763"
      ]
     },
     "execution_count": 44,
     "metadata": {},
     "output_type": "execute_result"
    }
   ],
   "source": [
    "accuracy_score(y_test,y_bid)"
   ]
  },
  {
   "cell_type": "code",
   "execution_count": 45,
   "metadata": {
    "execution": {
     "iopub.execute_input": "2023-09-03T12:20:48.544593Z",
     "iopub.status.busy": "2023-09-03T12:20:48.543723Z",
     "iopub.status.idle": "2023-09-03T12:20:48.554503Z",
     "shell.execute_reply": "2023-09-03T12:20:48.553362Z",
     "shell.execute_reply.started": "2023-09-03T12:20:48.544550Z"
    },
    "trusted": true
   },
   "outputs": [
    {
     "data": {
      "text/plain": [
       "array([[3118,  301],\n",
       "       [ 273, 2343]])"
      ]
     },
     "execution_count": 45,
     "metadata": {},
     "output_type": "execute_result"
    }
   ],
   "source": [
    "confusion_matrix(y_test,y_bid)"
   ]
  },
  {
   "cell_type": "code",
   "execution_count": 46,
   "metadata": {
    "execution": {
     "iopub.execute_input": "2023-09-03T12:20:54.713610Z",
     "iopub.status.busy": "2023-09-03T12:20:54.713256Z",
     "iopub.status.idle": "2023-09-03T12:20:54.737433Z",
     "shell.execute_reply": "2023-09-03T12:20:54.736466Z",
     "shell.execute_reply.started": "2023-09-03T12:20:54.713581Z"
    },
    "trusted": true
   },
   "outputs": [
    {
     "name": "stdout",
     "output_type": "stream",
     "text": [
      "              precision    recall  f1-score   support\n",
      "\n",
      "           0       0.92      0.91      0.92      3419\n",
      "           1       0.89      0.90      0.89      2616\n",
      "\n",
      "    accuracy                           0.90      6035\n",
      "   macro avg       0.90      0.90      0.90      6035\n",
      "weighted avg       0.91      0.90      0.90      6035\n",
      "\n"
     ]
    }
   ],
   "source": [
    "print(classification_report(y_test,y_bid))"
   ]
  }
 ],
 "metadata": {
  "kernelspec": {
   "display_name": "Python 3",
   "language": "python",
   "name": "python3"
  },
  "language_info": {
   "codemirror_mode": {
    "name": "ipython",
    "version": 3
   },
   "file_extension": ".py",
   "mimetype": "text/x-python",
   "name": "python",
   "nbconvert_exporter": "python",
   "pygments_lexer": "ipython3",
   "version": "3.12.8"
  }
 },
 "nbformat": 4,
 "nbformat_minor": 4
}
